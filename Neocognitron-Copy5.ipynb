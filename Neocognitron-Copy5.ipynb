{
 "cells": [
  {
   "cell_type": "code",
   "execution_count": 20,
   "metadata": {
    "collapsed": true
   },
   "outputs": [],
   "source": [
    "# overall activation of V\n",
    "# t - matrix of fixed  weights from C window to V\n",
    "# C - window that S unit sees  \n",
    "def v_activation(C_layer,C,t):\n",
    "    v = 0\n",
    "    for i in range(len(C_layer)):\n",
    "        v += v0_activation(C[i],t)\n",
    "    return v**(1/2)"
   ]
  },
  {
   "cell_type": "markdown",
   "metadata": {
    "collapsed": true
   },
   "source": [
    "# Необходимые функции"
   ]
  },
  {
   "cell_type": "code",
   "execution_count": 2,
   "metadata": {
    "collapsed": true
   },
   "outputs": [],
   "source": [
    "import numpy as np\n",
    "import matplotlib.pyplot as plt\n",
    "%matplotlib inline"
   ]
  },
  {
   "cell_type": "code",
   "execution_count": 3,
   "metadata": {
    "collapsed": true
   },
   "outputs": [],
   "source": [
    "# excitatory input from C units\n",
    "# С и W - поле видимости нейрона\n",
    "def e_ex(C,W):\n",
    "    return np.sum(np.multiply(C,W))"
   ]
  },
  {
   "cell_type": "code",
   "execution_count": 4,
   "metadata": {
    "collapsed": false
   },
   "outputs": [],
   "source": [
    "# signal sent by the inhibitory unit V from one window\n",
    "# Для одного нейрона V и для одной матрицы ( 5х5 или 3х3)\n",
    "# t - matrix of fixed  weights from C window to V\n",
    "# C - window that S unit sees  \n",
    "def v0_activation(C,t):\n",
    "    return np.sum(np.multiply(t,np.multiply(C,C)))"
   ]
  },
  {
   "cell_type": "code",
   "execution_count": 5,
   "metadata": {
    "collapsed": true
   },
   "outputs": [],
   "source": [
    "# scaled input of S unit\n",
    "def x_scaled(e,v,w0):\n",
    "    return ((1+e)/(1+v*w0))-1"
   ]
  },
  {
   "cell_type": "code",
   "execution_count": 6,
   "metadata": {
    "collapsed": true
   },
   "outputs": [],
   "source": [
    "# output signal from S unit\n",
    "def S(x):\n",
    "    if x >= 0:\n",
    "        return x\n",
    "    else:\n",
    "        return 0"
   ]
  },
  {
   "cell_type": "code",
   "execution_count": 7,
   "metadata": {
    "collapsed": true
   },
   "outputs": [],
   "source": [
    "# от одного окна\n",
    "# S - матрица слоя S\n",
    "# U - постоянные веса\n",
    "def c0_in(S,U):\n",
    "    return np.sum(np.multiply(S,U))"
   ]
  },
  {
   "cell_type": "code",
   "execution_count": 8,
   "metadata": {
    "collapsed": true
   },
   "outputs": [],
   "source": [
    "# output signal from C unit\n",
    "def c(c_in,a):\n",
    "    if c_in > 0.0:\n",
    "        return float(c_in/(a+c_in))\n",
    "    else:\n",
    "        return 0"
   ]
  },
  {
   "cell_type": "code",
   "execution_count": 9,
   "metadata": {
    "collapsed": true
   },
   "outputs": [],
   "source": [
    "# Weights from S to C\n",
    "\n",
    "def filter_weight(n):\n",
    "    U = np.array([[0.0] * n] * n)\n",
    "    middle = int(n/2)\n",
    "    for i in range(n):\n",
    "        for j in range(n):\n",
    "            U[i,j] = 1/(1+np.fabs(i - middle)+np.fabs(j - middle))\n",
    "    return U"
   ]
  },
  {
   "cell_type": "code",
   "execution_count": 10,
   "metadata": {
    "collapsed": true
   },
   "outputs": [],
   "source": [
    "# M - матрица, которую разбиваем\n",
    "# возвращает список nxn матриц матриц 3x3\n",
    "def filter3x3(M):\n",
    "    n = len(M)\n",
    "    F = np.array([[[[0.0]*3]*3]*n]*n)\n",
    "    L = np.array([[0.0] * (n+2)] * (n+2))\n",
    "    L[1:n+1,1:n+1] = M\n",
    "    for i in range(n):\n",
    "        for j in range(n):\n",
    "            F[i,j] = L[i:i+3,j:j+3]\n",
    "    return F"
   ]
  },
  {
   "cell_type": "code",
   "execution_count": 11,
   "metadata": {
    "collapsed": true
   },
   "outputs": [],
   "source": [
    "# n - размер исходной\n",
    "# M - матрица, которую разбиваем\n",
    "# возвращает список nxn матриц матриц 5x5\n",
    "# для любых преобразований размерностей\n",
    "# s - если шаг = 2 - через один\n",
    "def filter5x5(n,M,s):\n",
    "    F = np.array([[[[0.0]*5]*5]*n]*n)\n",
    "    if s == 1:\n",
    "        for i in range(n):\n",
    "            for j in range(n):\n",
    "                F[i,j] = M[i:i+5,j:j+5]\n",
    "        return F\n",
    "    z = int(n/2)*2+2-int(len(M)/2)\n",
    "    L = np.array([[0.0] * (len(M)+z*2)] * (len(M)+z*2))\n",
    "    L[z:len(M)+z,z:len(M)+z] = M\n",
    "    for i in range(n):\n",
    "        for j in range(n):\n",
    "            F[i,j] = L[i*2:i*2+5,j*2:j*2+5]\n",
    "    return F"
   ]
  },
  {
   "cell_type": "code",
   "execution_count": 12,
   "metadata": {
    "collapsed": true
   },
   "outputs": [],
   "source": [
    "n_layers = 8\n",
    "n_arrays = np.array([1,12,8,38,22,32,30,16,10])\n",
    "array_size = np.array([19,19,11,11,7,7,7,3,1])"
   ]
  },
  {
   "cell_type": "code",
   "execution_count": 13,
   "metadata": {
    "collapsed": false
   },
   "outputs": [],
   "source": [
    "# определим слои нейронной сети\n",
    "C0 = np.array([[0.0]*19]*19) \n",
    "S1 = np.array([[[0.0]*19]*19]*12)\n",
    "C1 = np.array([[[0.0]*11]*11]*8)\n",
    "S2 = np.array([[[0.0]*11]*11]*38)\n",
    "C2 = np.array([[[0.0]*7]*7]*22)\n",
    "S3 = np.array([[[0.0]*7]*7]*32)\n",
    "C3 = np.array([[[0.0]*7]*7]*30)\n",
    "S4 = np.array([[[0.0]*3]*3]*16)\n",
    "C4 = np.array([0.0]*10)"
   ]
  },
  {
   "cell_type": "code",
   "execution_count": 14,
   "metadata": {
    "collapsed": false
   },
   "outputs": [],
   "source": [
    "# схема перехода от S к С\n",
    "CON_S1_C1 = np.array([1,2,1,2,1,2,1,2])\n",
    "CON_S2_C2 = np.array([3,3,1,3,3,1,2,2,2,2,1,2,3,1,1,3,2,1,1,1,2,2])\n",
    "shift_s2_c2 = np.array([1,3,1,1,3,1,2,2,2,2,1,2,3,1,1,3,2,1,1,1,2,2])\n",
    "CON_S3_C3 = np.array([1 for i in range(30)])\n",
    "CON_S3_C3[22] = 2\n",
    "CON_S3_C3[28] = 2\n",
    "CON_S4_C4 = np.array([2,2,1,2,2,1,2,1,1,2])"
   ]
  },
  {
   "cell_type": "code",
   "execution_count": 15,
   "metadata": {
    "collapsed": false
   },
   "outputs": [],
   "source": [
    "# определим матрицы весов для нашей нейронной сети\n",
    "\n",
    "W_S1 = np.array([[[0.0]*3]*3]*12) #для каждого из 12 паттернов своя матрица веса 3 на 3, в начале нули\n",
    "W0_S1 = np.array([0.0]*12) # для каждого из 12 один тормозящий вес\n",
    "T_S1 = filter_weight(3) # fixed\n",
    "\n",
    "U5_C1 = filter_weight(5) # fixed\n",
    "\n",
    "W_S2 = np.array([[[[0.0]*3]*3]*8]*38) #для каждого из 38 приходится 8 матриц  3 на 3\n",
    "W0_S2 = np.array([0.0]*38) # для каждого из 38 тормозящий вес  \n",
    "T_S2 = filter_weight(3) # fixed\n",
    "\n",
    "U5_C2 = filter_weight(5) # fixed\n",
    "\n",
    "W_S3 = np.array([[[[0.0]*3]*3]*22]*32) #для каждого из 32 приходится 22 матрицы 3 на 3\n",
    "W0_S3 = np.array([0.0]*32) # для каждого из 32 один тормозящий вес\n",
    "T_S3 = filter_weight(3) # fixed\n",
    "\n",
    "U3_C3 = filter_weight(3) # fixed\n",
    "\n",
    "W_S4 = np.array([[[[0.0]*5]*5]*30]*16) #для каждого из 16 30 матриц 5 на 5\n",
    "W0_S4 = np.array([0.0]*16) # для каждого из 16 один тормозящий вес\n",
    "T_S4 = filter_weight(5) # fixed\n",
    "\n",
    "U3_C4 = filter_weight(3) # fixed"
   ]
  },
  {
   "cell_type": "markdown",
   "metadata": {},
   "source": [
    "# Ход сети"
   ]
  },
  {
   "cell_type": "code",
   "execution_count": 16,
   "metadata": {
    "collapsed": false
   },
   "outputs": [],
   "source": [
    "# заполним S1\n",
    "def fill_S1():\n",
    "    F = filter3x3(C0)\n",
    "    for k in range(n_arrays[1]):\n",
    "        for i in range(array_size[1]):\n",
    "            for j in range(array_size[1]):\n",
    "                S1[k,i,j] = S(x_scaled(e_ex(F[i,j],W_S1[k,:,:]),v0_activation(F[i,j],T_S1)**(1/2),W0_S1[k]))"
   ]
  },
  {
   "cell_type": "code",
   "execution_count": 17,
   "metadata": {
    "collapsed": false
   },
   "outputs": [],
   "source": [
    "# C1\n",
    "def fill_C1():\n",
    "    F2 = np.array([filter5x5(array_size[2],S1[i],2) for i in range(n_arrays[1])]) #разбили каждый array по фильтру\n",
    "    q = 0\n",
    "    for k in range(n_arrays[2]):\n",
    "        for i in range(array_size[2]):\n",
    "            for j in range(array_size[2]):\n",
    "                c_in = 0\n",
    "                for l in range(CON_S1_C1[k]):\n",
    "                    c_in += c0_in(F2[q+l,i,j],U5_C1)\n",
    "                C1[k,i,j] = c(c_in,0.25)\n",
    "        q += CON_S1_C1[k]"
   ]
  },
  {
   "cell_type": "code",
   "execution_count": 18,
   "metadata": {
    "collapsed": false
   },
   "outputs": [],
   "source": [
    "#S2\n",
    "def fill_S2():\n",
    "    F2 = np.array([filter3x3(C1[i]) for i in range(n_arrays[2])]) #разбили каждый array по фильтру\n",
    "    for k in range(n_arrays[3]):\n",
    "        for i in range(array_size[3]):\n",
    "            for j in range(array_size[3]):\n",
    "                v = 0.0\n",
    "                e = 0.0\n",
    "                for l in range(n_arrays[2]):\n",
    "                    v += v0_activation(F2[l,i,j],T_S2)\n",
    "                    e += e_ex(F2[l,i,j],W_S2[k,l])\n",
    "                S2[k,i,j] = S(x_scaled(e,v**(1/2),W0_S2[k]))"
   ]
  },
  {
   "cell_type": "code",
   "execution_count": 19,
   "metadata": {
    "collapsed": false
   },
   "outputs": [],
   "source": [
    "# C2\n",
    "def fill_C2():\n",
    "    F2 = np.array([filter5x5(array_size[4],S2[i],2) for i in range(n_arrays[3])]) #разбили каждый array по фильтру\n",
    "    q = 0\n",
    "    for k in range(n_arrays[4]):\n",
    "        for i in range(array_size[4]):\n",
    "            for j in range(array_size[4]):\n",
    "                c_in = 0.0\n",
    "                for l in range(CON_S2_C2[k]):\n",
    "                    c_in += c0_in(F2[q+l,i,j],U5_C2)\n",
    "                C2[k,i,j] = c(c_in,0.25)\n",
    "        q += shift_s2_c2[k] # так как есть повторяющиеся, нужно учитывать, что некоторые исп несколько раз"
   ]
  },
  {
   "cell_type": "code",
   "execution_count": 20,
   "metadata": {
    "collapsed": false
   },
   "outputs": [],
   "source": [
    "#S3\n",
    "def fill_S3():\n",
    "    F2 = np.array([filter3x3(C2[i]) for i in range(n_arrays[4])]) #разбили каждый array по фильтру\n",
    "    for k in range(n_arrays[5]):\n",
    "        for i in range(array_size[5]):\n",
    "            for j in range(array_size[5]):\n",
    "                v = 0.0\n",
    "                e = 0.0\n",
    "                for l in range(n_arrays[4]):\n",
    "                    v += v0_activation(F2[l,i,j],T_S3)\n",
    "                    e += e_ex(F2[l,i,j],W_S3[k,l])\n",
    "                S3[k,i,j] = S(x_scaled(e,v**(1/2),W0_S3[k]))"
   ]
  },
  {
   "cell_type": "code",
   "execution_count": 21,
   "metadata": {
    "collapsed": false
   },
   "outputs": [],
   "source": [
    "# C3\n",
    "def fill_C3():\n",
    "    F2 = np.array([filter3x3(S3[i]) for i in range(n_arrays[5])]) #разбили каждый array по фильтру\n",
    "    q = 0\n",
    "    for k in range(n_arrays[6]):\n",
    "        for i in range(array_size[6]):\n",
    "            for j in range(array_size[6]):\n",
    "                c_in = 0\n",
    "                for l in range(CON_S3_C3[k]):\n",
    "                    c_in += c0_in(F2[q+l,i,j],U3_C3)\n",
    "                C3[k,i,j] = c(c_in,0.25)\n",
    "        q += CON_S3_C3[k]"
   ]
  },
  {
   "cell_type": "code",
   "execution_count": 22,
   "metadata": {
    "collapsed": false
   },
   "outputs": [],
   "source": [
    "#S4\n",
    "def fill_S4():\n",
    "    F2 = np.array([filter5x5(array_size[7],C3[i],2) for i in range(n_arrays[6])]) #разбили каждый array по фильтру\n",
    "    for k in range(n_arrays[7]):\n",
    "        for i in range(array_size[7]):\n",
    "            for j in range(array_size[7]):\n",
    "                v = 0\n",
    "                e = 0\n",
    "                for l in range(n_arrays[6]):\n",
    "                    v += v0_activation(F2[l,i,j],T_S4)\n",
    "                    e += e_ex(F2[l,i,j],W_S4[k,l])\n",
    "                S4[k,i,j] = S(x_scaled(e,v**(1/2),W0_S4[k]))"
   ]
  },
  {
   "cell_type": "code",
   "execution_count": 23,
   "metadata": {
    "collapsed": false
   },
   "outputs": [],
   "source": [
    "# C4\n",
    "def fill_C4():\n",
    "    q = 0\n",
    "    for k in range(n_arrays[8]):\n",
    "        c_in = 0\n",
    "        for l in range(CON_S4_C4[k]):\n",
    "            c_in += c0_in(S4[q+l],U3_C4)\n",
    "        C4[k] = c(c_in,1)\n",
    "        q += CON_S4_C4[k]"
   ]
  },
  {
   "cell_type": "markdown",
   "metadata": {},
   "source": [
    "# Training patterns"
   ]
  },
  {
   "cell_type": "markdown",
   "metadata": {},
   "source": [
    "# Patterns for S1 level"
   ]
  },
  {
   "cell_type": "code",
   "execution_count": 24,
   "metadata": {
    "collapsed": false
   },
   "outputs": [
    {
     "data": {
      "text/plain": [
       "<matplotlib.figure.Figure at 0x8b2eaa5ac8>"
      ]
     },
     "metadata": {},
     "output_type": "display_data"
    }
   ],
   "source": [
    "plt.gray()"
   ]
  },
  {
   "cell_type": "code",
   "execution_count": 25,
   "metadata": {
    "collapsed": false
   },
   "outputs": [],
   "source": [
    "# patterns for S1 level\n",
    "S1_p = np.array([[[0]*3]*3]*12)\n",
    "S1_p[0,1,:] = 1\n",
    "\n",
    "S1_p[1,1,:2] = 1\n",
    "S1_p[1,0,2] = 1\n",
    "\n",
    "S1_p[2,1,1:] = 1\n",
    "S1_p[2,2,0] = 1\n",
    "\n",
    "S1_p[3,2,0] = 1\n",
    "S1_p[3,1,1] = 1\n",
    "S1_p[3,0,2] = 1\n",
    "\n",
    "S1_p[4,2,0] = 1\n",
    "S1_p[4,:2,1] = 1\n",
    "\n",
    "S1_p[5,0,2] = 1\n",
    "S1_p[5,1:,1] = 1\n",
    "\n",
    "S1_p[6,:,1] = 1\n",
    "\n",
    "S1_p[7,0,0] = 1\n",
    "S1_p[7,1:,1] = 1\n",
    "\n",
    "S1_p[8,2,2] = 1\n",
    "S1_p[8,:2,1] = 1\n",
    "\n",
    "S1_p[9,0,0] = 1\n",
    "S1_p[9,1,1] = 1\n",
    "S1_p[9,2,2] = 1\n",
    "\n",
    "S1_p[10,1,:2] = 1\n",
    "S1_p[10,2,2] = 1\n",
    "\n",
    "S1_p[11,1,1:] = 1\n",
    "S1_p[11,0,0] = 1"
   ]
  },
  {
   "cell_type": "code",
   "execution_count": 26,
   "metadata": {
    "collapsed": false
   },
   "outputs": [
    {
     "data": {
      "image/png": "[encoded data removed]",
      "text/plain": [
       "<matplotlib.figure.Figure at 0x8b2eaa5780>"
      ]
     },
     "metadata": {},
     "output_type": "display_data"
    },
    {
     "data": {
      "image/png": "[encoded data removed]",
      "text/plain": [
       "<matplotlib.figure.Figure at 0x8b2eb20160>"
      ]
     },
     "metadata": {},
     "output_type": "display_data"
    },
    {
     "data": {
      "image/png": "[encoded data removed]",
      "text/plain": [
       "<matplotlib.figure.Figure at 0x8b2eca12e8>"
      ]
     },
     "metadata": {},
     "output_type": "display_data"
    },
    {
     "data": {
      "image/png": "[encoded data removed]",
      "text/plain": [
       "<matplotlib.figure.Figure at 0x8b2ecd0b00>"
      ]
     },
     "metadata": {},
     "output_type": "display_data"
    },
    {
     "data": {
      "image/png": "[encoded data removed]",
      "text/plain": [
       "<matplotlib.figure.Figure at 0x8b2eb47240>"
      ]
     },
     "metadata": {},
     "output_type": "display_data"
    },
    {
     "data": {
      "image/png": "[encoded data removed]",
      "text/plain": [
       "<matplotlib.figure.Figure at 0x8b2ed1e518>"
      ]
     },
     "metadata": {},
     "output_type": "display_data"
    },
    {
     "data": {
      "image/png": "[encoded data removed]",
      "text/plain": [
       "<matplotlib.figure.Figure at 0x8b2ed72278>"
      ]
     },
     "metadata": {},
     "output_type": "display_data"
    },
    {
     "data": {
      "image/png": "[encoded data removed]",
      "text/plain": [
       "<matplotlib.figure.Figure at 0x8b2edabef0>"
      ]
     },
     "metadata": {},
     "output_type": "display_data"
    },
    {
     "data": {
      "image/png": "[encoded data removed]",
      "text/plain": [
       "<matplotlib.figure.Figure at 0x8b2ee220f0>"
      ]
     },
     "metadata": {},
     "output_type": "display_data"
    },
    {
     "data": {
      "image/png": "[encoded data removed]",
      "text/plain": [
       "<matplotlib.figure.Figure at 0x8b2ee813c8>"
      ]
     },
     "metadata": {},
     "output_type": "display_data"
    },
    {
     "data": {
      "image/png": "[encoded data removed]",
      "text/plain": [
       "<matplotlib.figure.Figure at 0x8b2eefce10>"
      ]
     },
     "metadata": {},
     "output_type": "display_data"
    },
    {
     "data": {
      "image/png": "[encoded data removed]",
      "text/plain": [
       "<matplotlib.figure.Figure at 0x8b2ff1fc88>"
      ]
     },
     "metadata": {},
     "output_type": "display_data"
    }
   ],
   "source": [
    "for i in S1_p:\n",
    "    plt.matshow(i) \n",
    "    plt.show()"
   ]
  },
  {
   "cell_type": "code",
   "execution_count": 27,
   "metadata": {
    "collapsed": true
   },
   "outputs": [],
   "source": [
    "from PIL import Image"
   ]
  },
  {
   "cell_type": "markdown",
   "metadata": {},
   "source": [
    "# # Patterns for S2 level"
   ]
  },
  {
   "cell_type": "code",
   "execution_count": 28,
   "metadata": {
    "collapsed": true
   },
   "outputs": [],
   "source": [
    "S_2_train = np.array([[[0.0]*11]*11]*38)\n",
    "for i in  range(38):\n",
    "    image = Image.open(\"D:\\Digits\\S_2_{}.png\".format(i+1))\n",
    "    image = np.array(image)[:,:,0]\n",
    "    image[np.where(image == [0])] = [1]\n",
    "    image[np.where(image == [255])] = [0]\n",
    "    S_2_train[i,:,:]= image"
   ]
  },
  {
   "cell_type": "code",
   "execution_count": 29,
   "metadata": {
    "collapsed": false
   },
   "outputs": [
    {
     "data": {
      "image/png": "[encoded data removed]",
      "text/plain": [
       "<matplotlib.figure.Figure at 0x8b2ff3cb38>"
      ]
     },
     "metadata": {},
     "output_type": "display_data"
    },
    {
     "data": {
      "image/png": "[encoded data removed]",
      "text/plain": [
       "<matplotlib.figure.Figure at 0x8b2ee99da0>"
      ]
     },
     "metadata": {},
     "output_type": "display_data"
    },
    {
     "data": {
      "image/png": "[encoded data removed]",
      "text/plain": [
       "<matplotlib.figure.Figure at 0x8b3000b7b8>"
      ]
     },
     "metadata": {},
     "output_type": "display_data"
    },
    {
     "data": {
      "image/png": "[encoded data removed]",
      "text/plain": [
       "<matplotlib.figure.Figure at 0x8b2ff68c88>"
      ]
     },
     "metadata": {},
     "output_type": "display_data"
    },
    {
     "data": {
      "image/png": "[encoded data removed]",
      "text/plain": [
       "<matplotlib.figure.Figure at 0x8b2eeaef28>"
      ]
     },
     "metadata": {},
     "output_type": "display_data"
    },
    {
     "data": {
      "image/png": "[encoded data removed]",
      "text/plain": [
       "<matplotlib.figure.Figure at 0x8b2ff15cc0>"
      ]
     },
     "metadata": {},
     "output_type": "display_data"
    },
    {
     "data": {
      "image/png": "[encoded data removed]",
      "text/plain": [
       "<matplotlib.figure.Figure at 0x8b2ee87128>"
      ]
     },
     "metadata": {},
     "output_type": "display_data"
    },
    {
     "data": {
      "image/png": "[encoded data removed]",
      "text/plain": [
       "<matplotlib.figure.Figure at 0x8b2ff06e10>"
      ]
     },
     "metadata": {},
     "output_type": "display_data"
    },
    {
     "data": {
      "image/png": "[encoded data removed]",
      "text/plain": [
       "<matplotlib.figure.Figure at 0x8b2ee05fd0>"
      ]
     },
     "metadata": {},
     "output_type": "display_data"
    },
    {
     "data": {
      "image/png": "[encoded data removed]",
      "text/plain": [
       "<matplotlib.figure.Figure at 0x8b3007df60>"
      ]
     },
     "metadata": {},
     "output_type": "display_data"
    },
    {
     "data": {
      "image/png": "[encoded data removed]",
      "text/plain": [
       "<matplotlib.figure.Figure at 0x8b2ed62160>"
      ]
     },
     "metadata": {},
     "output_type": "display_data"
    },
    {
     "data": {
      "image/png": "[encoded data removed]",
      "text/plain": [
       "<matplotlib.figure.Figure at 0x8b2ed13f28>"
      ]
     },
     "metadata": {},
     "output_type": "display_data"
    },
    {
     "data": {
      "image/png": "[encoded data removed]",
      "text/plain": [
       "<matplotlib.figure.Figure at 0x8b300cae80>"
      ]
     },
     "metadata": {},
     "output_type": "display_data"
    },
    {
     "data": {
      "image/png": "[encoded data removed]",
      "text/plain": [
       "<matplotlib.figure.Figure at 0x8b2ed0dcc0>"
      ]
     },
     "metadata": {},
     "output_type": "display_data"
    },
    {
     "data": {
      "image/png": "[encoded data removed]",
      "text/plain": [
       "<matplotlib.figure.Figure at 0x8b2eda9ac8>"
      ]
     },
     "metadata": {},
     "output_type": "display_data"
    },
    {
     "data": {
      "image/png": "[encoded data removed]",
      "text/plain": [
       "<matplotlib.figure.Figure at 0x8b2ed13be0>"
      ]
     },
     "metadata": {},
     "output_type": "display_data"
    },
    {
     "data": {
      "image/png": "[encoded data removed]",
      "text/plain": [
       "<matplotlib.figure.Figure at 0x8b2ed7ca58>"
      ]
     },
     "metadata": {},
     "output_type": "display_data"
    },
    {
     "data": {
      "image/png": "[encoded data removed]",
      "text/plain": [
       "<matplotlib.figure.Figure at 0x8b2ecb3e80>"
      ]
     },
     "metadata": {},
     "output_type": "display_data"
    },
    {
     "data": {
      "image/png": "[encoded data removed]",
      "text/plain": [
       "<matplotlib.figure.Figure at 0x8b2ee02d30>"
      ]
     },
     "metadata": {},
     "output_type": "display_data"
    },
    {
     "data": {
      "image/png": "[encoded data removed]",
      "text/plain": [
       "<matplotlib.figure.Figure at 0x8b2fff0e10>"
      ]
     },
     "metadata": {},
     "output_type": "display_data"
    },
    {
     "data": {
      "image/png": "[encoded data removed]",
      "text/plain": [
       "<matplotlib.figure.Figure at 0x8b2fedcf60>"
      ]
     },
     "metadata": {},
     "output_type": "display_data"
    },
    {
     "data": {
      "image/png": "[encoded data removed]",
      "text/plain": [
       "<matplotlib.figure.Figure at 0x8b2ee6ec88>"
      ]
     },
     "metadata": {},
     "output_type": "display_data"
    },
    {
     "data": {
      "image/png": "[encoded data removed]",
      "text/plain": [
       "<matplotlib.figure.Figure at 0x8b2ee8df28>"
      ]
     },
     "metadata": {},
     "output_type": "display_data"
    },
    {
     "data": {
      "image/png": "[encoded data removed]",
      "text/plain": [
       "<matplotlib.figure.Figure at 0x8b2eee7e80>"
      ]
     },
     "metadata": {},
     "output_type": "display_data"
    },
    {
     "data": {
      "image/png": "[encoded data removed]",
      "text/plain": [
       "<matplotlib.figure.Figure at 0x8b301097b8>"
      ]
     },
     "metadata": {},
     "output_type": "display_data"
    },
    {
     "data": {
      "image/png": "[encoded data removed]",
      "text/plain": [
       "<matplotlib.figure.Figure at 0x8b300ffa90>"
      ]
     },
     "metadata": {},
     "output_type": "display_data"
    },
    {
     "data": {
      "image/png": "[encoded data removed]",
      "text/plain": [
       "<matplotlib.figure.Figure at 0x8b2ff73080>"
      ]
     },
     "metadata": {},
     "output_type": "display_data"
    },
    {
     "data": {
      "image/png": "[encoded data removed]",
      "text/plain": [
       "<matplotlib.figure.Figure at 0x8b2ff6e860>"
      ]
     },
     "metadata": {},
     "output_type": "display_data"
    },
    {
     "data": {
      "image/png": "[encoded data removed]",
      "text/plain": [
       "<matplotlib.figure.Figure at 0x8b2ff6ae80>"
      ]
     },
     "metadata": {},
     "output_type": "display_data"
    },
    {
     "data": {
      "image/png": "[encoded data removed]",
      "text/plain": [
       "<matplotlib.figure.Figure at 0x8b2eadfe10>"
      ]
     },
     "metadata": {},
     "output_type": "display_data"
    },
    {
     "data": {
      "image/png": "[encoded data removed]",
      "text/plain": [
       "<matplotlib.figure.Figure at 0x8b2edf7fd0>"
      ]
     },
     "metadata": {},
     "output_type": "display_data"
    },
    {
     "data": {
      "image/png": "[encoded data removed]",
      "text/plain": [
       "<matplotlib.figure.Figure at 0x8b2ee05f60>"
      ]
     },
     "metadata": {},
     "output_type": "display_data"
    },
    {
     "data": {
      "image/png": "[encoded data removed]",
      "text/plain": [
       "<matplotlib.figure.Figure at 0x8b2eca8160>"
      ]
     },
     "metadata": {},
     "output_type": "display_data"
    },
    {
     "data": {
      "image/png": "[encoded data removed]",
      "text/plain": [
       "<matplotlib.figure.Figure at 0x8b3008cf28>"
      ]
     },
     "metadata": {},
     "output_type": "display_data"
    },
    {
     "data": {
      "image/png": "[encoded data removed]",
      "text/plain": [
       "<matplotlib.figure.Figure at 0x8b2ed24e80>"
      ]
     },
     "metadata": {},
     "output_type": "display_data"
    },
    {
     "data": {
      "image/png": "[encoded data removed]",
      "text/plain": [
       "<matplotlib.figure.Figure at 0x8b2ed517b8>"
      ]
     },
     "metadata": {},
     "output_type": "display_data"
    },
    {
     "data": {
      "image/png": "[encoded data removed]",
      "text/plain": [
       "<matplotlib.figure.Figure at 0x8b30012390>"
      ]
     },
     "metadata": {},
     "output_type": "display_data"
    },
    {
     "data": {
      "image/png": "[encoded data removed]",
      "text/plain": [
       "<matplotlib.figure.Figure at 0x8b2ca44048>"
      ]
     },
     "metadata": {},
     "output_type": "display_data"
    }
   ],
   "source": [
    "for i in S_2_train:\n",
    "    plt.matshow(i) \n",
    "    plt.show()"
   ]
  },
  {
   "cell_type": "markdown",
   "metadata": {},
   "source": [
    "# Patterns for S3 level\n"
   ]
  },
  {
   "cell_type": "code",
   "execution_count": 30,
   "metadata": {
    "collapsed": true
   },
   "outputs": [],
   "source": [
    "S_3_train = np.array([[[0.0]*19]*19]*32)\n",
    "for i in  range(32):\n",
    "    image = Image.open(\"D:\\Digits\\S_3_{}.png\".format(i+1))\n",
    "    image = np.array(image)[:,:,0]\n",
    "    image[np.where(image == [0])] = [1]\n",
    "    image[np.where(image == [255])] = [0]\n",
    "    S_3_train[i,:,:]= image"
   ]
  },
  {
   "cell_type": "code",
   "execution_count": 31,
   "metadata": {
    "collapsed": false
   },
   "outputs": [
    {
     "data": {
      "image/png": "[encoded data removed]",
      "text/plain": [
       "<matplotlib.figure.Figure at 0x8b2ed0ca20>"
      ]
     },
     "metadata": {},
     "output_type": "display_data"
    },
    {
     "data": {
      "image/png": "[encoded data removed]",
      "text/plain": [
       "<matplotlib.figure.Figure at 0x8b300bd898>"
      ]
     },
     "metadata": {},
     "output_type": "display_data"
    },
    {
     "data": {
      "image/png": "[encoded data removed]",
      "text/plain": [
       "<matplotlib.figure.Figure at 0x8b2ed36e10>"
      ]
     },
     "metadata": {},
     "output_type": "display_data"
    },
    {
     "data": {
      "image/png": "[encoded data removed]",
      "text/plain": [
       "<matplotlib.figure.Figure at 0x8b2edc7f98>"
      ]
     },
     "metadata": {},
     "output_type": "display_data"
    },
    {
     "data": {
      "image/png": "[encoded data removed]",
      "text/plain": [
       "<matplotlib.figure.Figure at 0x8b2eb9e080>"
      ]
     },
     "metadata": {},
     "output_type": "display_data"
    },
    {
     "data": {
      "image/png": "[encoded data removed]",
      "text/plain": [
       "<matplotlib.figure.Figure at 0x8b2ee52d68>"
      ]
     },
     "metadata": {},
     "output_type": "display_data"
    },
    {
     "data": {
      "image/png": "[encoded data removed]",
      "text/plain": [
       "<matplotlib.figure.Figure at 0x8b300bf048>"
      ]
     },
     "metadata": {},
     "output_type": "display_data"
    },
    {
     "data": {
      "image/png": "[encoded data removed]",
      "text/plain": [
       "<matplotlib.figure.Figure at 0x8b2eed7dd8>"
      ]
     },
     "metadata": {},
     "output_type": "display_data"
    },
    {
     "data": {
      "image/png": "[encoded data removed]",
      "text/plain": [
       "<matplotlib.figure.Figure at 0x8b300990b8>"
      ]
     },
     "metadata": {},
     "output_type": "display_data"
    },
    {
     "data": {
      "image/png": "[encoded data removed]",
      "text/plain": [
       "<matplotlib.figure.Figure at 0x8b2fefe550>"
      ]
     },
     "metadata": {},
     "output_type": "display_data"
    },
    {
     "data": {
      "image/png": "[encoded data removed]",
      "text/plain": [
       "<matplotlib.figure.Figure at 0x8b2ff40940>"
      ]
     },
     "metadata": {},
     "output_type": "display_data"
    },
    {
     "data": {
      "image/png": "[encoded data removed]",
      "text/plain": [
       "<matplotlib.figure.Figure at 0x8b2ee5b6d8>"
      ]
     },
     "metadata": {},
     "output_type": "display_data"
    },
    {
     "data": {
      "image/png": "[encoded data removed]",
      "text/plain": [
       "<matplotlib.figure.Figure at 0x8b2e1fe240>"
      ]
     },
     "metadata": {},
     "output_type": "display_data"
    },
    {
     "data": {
      "image/png": "[encoded data removed]",
      "text/plain": [
       "<matplotlib.figure.Figure at 0x8b30045fd0>"
      ]
     },
     "metadata": {},
     "output_type": "display_data"
    },
    {
     "data": {
      "image/png": "[encoded data removed]",
      "text/plain": [
       "<matplotlib.figure.Figure at 0x8b2eb3a518>"
      ]
     },
     "metadata": {},
     "output_type": "display_data"
    },
    {
     "data": {
      "image/png": "[encoded data removed]",
      "text/plain": [
       "<matplotlib.figure.Figure at 0x8b2edc5710>"
      ]
     },
     "metadata": {},
     "output_type": "display_data"
    },
    {
     "data": {
      "image/png": "[encoded data removed]",
      "text/plain": [
       "<matplotlib.figure.Figure at 0x8b2ee20ba8>"
      ]
     },
     "metadata": {},
     "output_type": "display_data"
    },
    {
     "data": {
      "image/png": "[encoded data removed]",
      "text/plain": [
       "<matplotlib.figure.Figure at 0x8b2ecae780>"
      ]
     },
     "metadata": {},
     "output_type": "display_data"
    },
    {
     "data": {
      "image/png": "[encoded data removed]",
      "text/plain": [
       "<matplotlib.figure.Figure at 0x8b2ed08c18>"
      ]
     },
     "metadata": {},
     "output_type": "display_data"
    },
    {
     "data": {
      "image/png": "[encoded data removed]",
      "text/plain": [
       "<matplotlib.figure.Figure at 0x8b2ed5d6a0>"
      ]
     },
     "metadata": {},
     "output_type": "display_data"
    },
    {
     "data": {
      "image/png": "[encoded data removed]",
      "text/plain": [
       "<matplotlib.figure.Figure at 0x8b300222e8>"
      ]
     },
     "metadata": {},
     "output_type": "display_data"
    },
    {
     "data": {
      "image/png": "[encoded data removed]",
      "text/plain": [
       "<matplotlib.figure.Figure at 0x8b2ca07f60>"
      ]
     },
     "metadata": {},
     "output_type": "display_data"
    },
    {
     "data": {
      "image/png": "[encoded data removed]",
      "text/plain": [
       "<matplotlib.figure.Figure at 0x8b2ed36eb8>"
      ]
     },
     "metadata": {},
     "output_type": "display_data"
    },
    {
     "data": {
      "image/png": "[encoded data removed]",
      "text/plain": [
       "<matplotlib.figure.Figure at 0x8b2edd56a0>"
      ]
     },
     "metadata": {},
     "output_type": "display_data"
    },
    {
     "data": {
      "image/png": "[encoded data removed]",
      "text/plain": [
       "<matplotlib.figure.Figure at 0x8b2ed5cba8>"
      ]
     },
     "metadata": {},
     "output_type": "display_data"
    },
    {
     "data": {
      "image/png": "[encoded data removed]",
      "text/plain": [
       "<matplotlib.figure.Figure at 0x8b2fedc198>"
      ]
     },
     "metadata": {},
     "output_type": "display_data"
    },
    {
     "data": {
      "image/png": "[encoded data removed]",
      "text/plain": [
       "<matplotlib.figure.Figure at 0x8b2ed1f710>"
      ]
     },
     "metadata": {},
     "output_type": "display_data"
    },
    {
     "data": {
      "image/png": "[encoded data removed]",
      "text/plain": [
       "<matplotlib.figure.Figure at 0x8b2edcaba8>"
      ]
     },
     "metadata": {},
     "output_type": "display_data"
    },
    {
     "data": {
      "image/png": "[encoded data removed]",
      "text/plain": [
       "<matplotlib.figure.Figure at 0x8b2ee40e48>"
      ]
     },
     "metadata": {},
     "output_type": "display_data"
    },
    {
     "data": {
      "image/png": "[encoded data removed]",
      "text/plain": [
       "<matplotlib.figure.Figure at 0x8b2edafc18>"
      ]
     },
     "metadata": {},
     "output_type": "display_data"
    },
    {
     "data": {
      "image/png": "[encoded data removed]",
      "text/plain": [
       "<matplotlib.figure.Figure at 0x8b300bd0b8>"
      ]
     },
     "metadata": {},
     "output_type": "display_data"
    },
    {
     "data": {
      "image/png": "[encoded data removed]",
      "text/plain": [
       "<matplotlib.figure.Figure at 0x8b3000c2e8>"
      ]
     },
     "metadata": {},
     "output_type": "display_data"
    }
   ],
   "source": [
    "for i in S_3_train:\n",
    "    plt.matshow(i) \n",
    "    plt.show()"
   ]
  },
  {
   "cell_type": "markdown",
   "metadata": {},
   "source": [
    "# Patterns for S3 level"
   ]
  },
  {
   "cell_type": "code",
   "execution_count": 32,
   "metadata": {
    "collapsed": false
   },
   "outputs": [],
   "source": [
    "S_4_train = np.array([[[0.0]*19]*19]*16)\n",
    "for i in  range(16):\n",
    "    image = Image.open(\"D:\\Digits\\S_4_{}.png\".format(i+1))\n",
    "    image = np.array(image)[:,:,0]\n",
    "    image[np.where(image == [0])] = [1]\n",
    "    image[np.where(image == [255])] = [0]\n",
    "    S_4_train[i,:,:]= image"
   ]
  },
  {
   "cell_type": "code",
   "execution_count": 33,
   "metadata": {
    "collapsed": false
   },
   "outputs": [
    {
     "data": {
      "image/png": "[encoded data removed]",
      "text/plain": [
       "<matplotlib.figure.Figure at 0x8b2ff40550>"
      ]
     },
     "metadata": {},
     "output_type": "display_data"
    },
    {
     "data": {
      "image/png": "[encoded data removed]",
      "text/plain": [
       "<matplotlib.figure.Figure at 0x8b2ed87128>"
      ]
     },
     "metadata": {},
     "output_type": "display_data"
    },
    {
     "data": {
      "image/png": "[encoded data removed]",
      "text/plain": [
       "<matplotlib.figure.Figure at 0x8b2ff51b38>"
      ]
     },
     "metadata": {},
     "output_type": "display_data"
    },
    {
     "data": {
      "image/png": "[encoded data removed]",
      "text/plain": [
       "<matplotlib.figure.Figure at 0x8b300091d0>"
      ]
     },
     "metadata": {},
     "output_type": "display_data"
    },
    {
     "data": {
      "image/png": "[encoded data removed]",
      "text/plain": [
       "<matplotlib.figure.Figure at 0x8b2eddcba8>"
      ]
     },
     "metadata": {},
     "output_type": "display_data"
    },
    {
     "data": {
      "image/png": "[encoded data removed]",
      "text/plain": [
       "<matplotlib.figure.Figure at 0x8b2fee94e0>"
      ]
     },
     "metadata": {},
     "output_type": "display_data"
    },
    {
     "data": {
      "image/png": "[encoded data removed]",
      "text/plain": [
       "<matplotlib.figure.Figure at 0x8b2ee01c18>"
      ]
     },
     "metadata": {},
     "output_type": "display_data"
    },
    {
     "data": {
      "image/png": "[encoded data removed]",
      "text/plain": [
       "<matplotlib.figure.Figure at 0x8b2ecc4a20>"
      ]
     },
     "metadata": {},
     "output_type": "display_data"
    },
    {
     "data": {
      "image/png": "[encoded data removed]",
      "text/plain": [
       "<matplotlib.figure.Figure at 0x8b3010ba90>"
      ]
     },
     "metadata": {},
     "output_type": "display_data"
    },
    {
     "data": {
      "image/png": "[encoded data removed]",
      "text/plain": [
       "<matplotlib.figure.Figure at 0x8b3004e128>"
      ]
     },
     "metadata": {},
     "output_type": "display_data"
    },
    {
     "data": {
      "image/png": "[encoded data removed]",
      "text/plain": [
       "<matplotlib.figure.Figure at 0x8b2ee0d710>"
      ]
     },
     "metadata": {},
     "output_type": "display_data"
    },
    {
     "data": {
      "image/png": "[encoded data removed]",
      "text/plain": [
       "<matplotlib.figure.Figure at 0x8b2eaa5d68>"
      ]
     },
     "metadata": {},
     "output_type": "display_data"
    },
    {
     "data": {
      "image/png": "[encoded data removed]",
      "text/plain": [
       "<matplotlib.figure.Figure at 0x8b2ff30f60>"
      ]
     },
     "metadata": {},
     "output_type": "display_data"
    },
    {
     "data": {
      "image/png": "[encoded data removed]",
      "text/plain": [
       "<matplotlib.figure.Figure at 0x8b2ff1f160>"
      ]
     },
     "metadata": {},
     "output_type": "display_data"
    },
    {
     "data": {
      "image/png": "[encoded data removed]",
      "text/plain": [
       "<matplotlib.figure.Figure at 0x8b2ed29f28>"
      ]
     },
     "metadata": {},
     "output_type": "display_data"
    },
    {
     "data": {
      "image/png": "[encoded data removed]",
      "text/plain": [
       "<matplotlib.figure.Figure at 0x8b30039b70>"
      ]
     },
     "metadata": {},
     "output_type": "display_data"
    }
   ],
   "source": [
    "for i in S_4_train:\n",
    "    plt.matshow(i) \n",
    "    plt.show()"
   ]
  },
  {
   "cell_type": "markdown",
   "metadata": {},
   "source": [
    "# Training process"
   ]
  },
  {
   "cell_type": "code",
   "execution_count": 34,
   "metadata": {
    "collapsed": true
   },
   "outputs": [],
   "source": [
    "# C0 -> S1\n",
    "# alpha - learning rate\n",
    "alpha = 0.5\n",
    "for i in range(W_S1.shape[0]):\n",
    "    W_S1[i] += alpha * np.multiply(T_S1,S1_p[i])\n",
    "    W0_S1[i] += alpha * S1_p[i,1,1]"
   ]
  },
  {
   "cell_type": "code",
   "execution_count": 35,
   "metadata": {
    "collapsed": false
   },
   "outputs": [],
   "source": [
    "# C1 -> S2\n",
    "for i in range(W_S2.shape[0]): # для каждого array  в слое S2 = для каждого training pattern\n",
    "    C0[4:15,4:15] = S_2_train[i]\n",
    "    fill_S1()\n",
    "    fill_C1()\n",
    "    for j in range(W_S2.shape[1]): # для каждого array  в слое C1\n",
    "        W_S2[i,j] += alpha * np.multiply(T_S2,C1[j,5:8,5:8])\n",
    "        W0_S2[i] += alpha * C1[j,6,6]    "
   ]
  },
  {
   "cell_type": "code",
   "execution_count": 36,
   "metadata": {
    "collapsed": false
   },
   "outputs": [],
   "source": [
    "# C2 -> S3\n",
    "for i in range(W_S3.shape[0]): # для каждого array  в слое S3 = для каждого training pattern\n",
    "    C0 = S_3_train[i]\n",
    "    fill_S1()\n",
    "    fill_C1()\n",
    "    fill_S2()\n",
    "    fill_C2()\n",
    "    for j in range(W_S3.shape[1]): # для каждого array  в слое C2\n",
    "        W_S3[i,j] += alpha * np.multiply(T_S3,C2[j,3:6,3:6])\n",
    "        W0_S3[i] += alpha * C2[j,4,4]    "
   ]
  },
  {
   "cell_type": "code",
   "execution_count": 37,
   "metadata": {
    "collapsed": false
   },
   "outputs": [],
   "source": [
    "# C3 -> S4\n",
    "for i in range(W_S4.shape[0]): # для каждого array  в слое S4 = для каждого training pattern\n",
    "    C0 = S_4_train[i]\n",
    "    fill_S1()\n",
    "    fill_C1()\n",
    "    fill_S2()\n",
    "    fill_C2()\n",
    "    fill_S3()\n",
    "    fill_C3()\n",
    "    for j in range(W_S4.shape[1]): # для каждого array  в слое C3\n",
    "        W_S4[i,j] += alpha * np.multiply(T_S4,C3[j,2:7,2:7])\n",
    "        W0_S4[i] += alpha * C3[j,4,4]  "
   ]
  },
  {
   "cell_type": "code",
   "execution_count": 38,
   "metadata": {
    "collapsed": false
   },
   "outputs": [
    {
     "data": {
      "text/plain": [
       "array([ 0.,  0.,  0.,  0.,  0.,  0.,  0.,  0.,  0.,  0.])"
      ]
     },
     "execution_count": 38,
     "metadata": {},
     "output_type": "execute_result"
    }
   ],
   "source": [
    "C0 = S_4_train[5]\n",
    "fill_S1()\n",
    "fill_C1()\n",
    "fill_S2()\n",
    "fill_C2()\n",
    "fill_S3()\n",
    "fill_C3()\n",
    "fill_S4()\n",
    "fill_C4()\n",
    "C4"
   ]
  },
  {
   "cell_type": "code",
   "execution_count": null,
   "metadata": {
    "collapsed": true
   },
   "outputs": [],
   "source": []
  },
  {
   "cell_type": "code",
   "execution_count": 39,
   "metadata": {
    "collapsed": false
   },
   "outputs": [
    {
     "data": {
      "text/plain": [
       "array([[[ 0.        ,  0.        ,  0.        , ...,  0.        ,\n",
       "          0.        ,  0.        ],\n",
       "        [ 0.        ,  0.01933779,  0.03181944, ...,  0.13722714,\n",
       "          0.25693834,  0.17518774],\n",
       "        [ 0.        ,  0.03265656,  0.09122569, ...,  0.20067939,\n",
       "          0.42058475,  0.257322  ],\n",
       "        ..., \n",
       "        [ 0.        ,  0.02939544,  0.08328965, ...,  0.13165786,\n",
       "          0.36306398,  0.23939291],\n",
       "        [ 0.        ,  0.01784711,  0.02939544, ...,  0.09116666,\n",
       "          0.2081049 ,  0.1548438 ],\n",
       "        [ 0.        ,  0.        ,  0.        , ...,  0.        ,\n",
       "          0.        ,  0.        ]],\n",
       "\n",
       "       [[ 0.        ,  0.        ,  0.        , ...,  0.        ,\n",
       "          0.        ,  0.        ],\n",
       "        [ 0.        ,  0.01965085,  0.03868637, ...,  0.12464175,\n",
       "          0.23817717,  0.16369285],\n",
       "        [ 0.        ,  0.03316415,  0.0996044 , ...,  0.22975237,\n",
       "          0.43682084,  0.25922861],\n",
       "        ..., \n",
       "        [ 0.        ,  0.02939544,  0.08328965, ...,  0.18186257,\n",
       "          0.39799937,  0.27029288],\n",
       "        [ 0.        ,  0.01784711,  0.02939544, ...,  0.19777154,\n",
       "          0.36775268,  0.2293702 ],\n",
       "        [ 0.        ,  0.        ,  0.        , ...,  0.07856898,\n",
       "          0.11789607,  0.05575462]],\n",
       "\n",
       "       [[ 0.        ,  0.00602135,  0.07937912, ...,  0.17590989,\n",
       "          0.07880099,  0.00566043],\n",
       "        [ 0.        ,  0.03151982,  0.31022294, ...,  0.53999783,\n",
       "          0.30697787,  0.02741469],\n",
       "        [ 0.        ,  0.03279485,  0.31712897, ...,  0.57942421,\n",
       "          0.36444607,  0.04223725],\n",
       "        ..., \n",
       "        [ 0.        ,  0.01259188,  0.10619933, ...,  0.46627298,\n",
       "          0.36103464,  0.07215913],\n",
       "        [ 0.        ,  0.03539707,  0.28176297, ...,  0.51090133,\n",
       "          0.31272203,  0.046563  ],\n",
       "        [ 0.        ,  0.02631819,  0.2250549 , ...,  0.41124621,\n",
       "          0.22447577,  0.02421816]],\n",
       "\n",
       "       ..., \n",
       "       [[ 0.        ,  0.        ,  0.        , ...,  0.        ,\n",
       "          0.        ,  0.        ],\n",
       "        [ 0.        ,  0.        ,  0.        , ...,  0.        ,\n",
       "          0.        ,  0.        ],\n",
       "        [ 0.        ,  0.        ,  0.        , ...,  0.        ,\n",
       "          0.        ,  0.        ],\n",
       "        ..., \n",
       "        [ 0.        ,  0.        ,  0.        , ...,  0.        ,\n",
       "          0.        ,  0.        ],\n",
       "        [ 0.        ,  0.        ,  0.        , ...,  0.        ,\n",
       "          0.        ,  0.        ],\n",
       "        [ 0.        ,  0.        ,  0.        , ...,  0.        ,\n",
       "          0.        ,  0.        ]],\n",
       "\n",
       "       [[ 0.        ,  0.        ,  0.        , ...,  0.        ,\n",
       "          0.        ,  0.        ],\n",
       "        [ 0.        ,  0.04742067,  0.23923101, ...,  0.0778389 ,\n",
       "          0.        ,  0.        ],\n",
       "        [ 0.        ,  0.05590306,  0.28849771, ...,  0.0778389 ,\n",
       "          0.        ,  0.        ],\n",
       "        ..., \n",
       "        [ 0.        ,  0.        ,  0.        , ...,  0.01837601,\n",
       "          0.        ,  0.        ],\n",
       "        [ 0.        ,  0.        ,  0.07799601, ...,  0.14554715,\n",
       "          0.02958823,  0.        ],\n",
       "        [ 0.        ,  0.        ,  0.07799601, ...,  0.14554715,\n",
       "          0.02958823,  0.        ]],\n",
       "\n",
       "       [[ 0.        ,  0.        ,  0.        , ...,  0.02374879,\n",
       "          0.04288082,  0.02514079],\n",
       "        [ 0.        ,  0.07136723,  0.17356122, ...,  0.27545568,\n",
       "          0.41328894,  0.24783572],\n",
       "        [ 0.        ,  0.11027803,  0.29395697, ...,  0.40432575,\n",
       "          0.57984236,  0.35823019],\n",
       "        ..., \n",
       "        [ 0.        ,  0.06888551,  0.16317345, ...,  0.30042654,\n",
       "          0.53937988,  0.37495481],\n",
       "        [ 0.        ,  0.03679045,  0.05802201, ...,  0.26554594,\n",
       "          0.41333315,  0.25218094],\n",
       "        [ 0.        ,  0.        ,  0.        , ...,  0.11986825,\n",
       "          0.13570954,  0.04153557]]])"
      ]
     },
     "execution_count": 39,
     "metadata": {},
     "output_type": "execute_result"
    }
   ],
   "source": [
    "C2"
   ]
  },
  {
   "cell_type": "code",
   "execution_count": 40,
   "metadata": {
    "collapsed": false
   },
   "outputs": [
    {
     "data": {
      "text/plain": [
       "array([[[ 0.,  0.,  0., ...,  0.,  0.,  0.],\n",
       "        [ 0.,  0.,  0., ...,  0.,  0.,  0.],\n",
       "        [ 0.,  0.,  0., ...,  0.,  0.,  0.],\n",
       "        ..., \n",
       "        [ 0.,  0.,  0., ...,  0.,  0.,  0.],\n",
       "        [ 0.,  0.,  0., ...,  0.,  0.,  0.],\n",
       "        [ 0.,  0.,  0., ...,  0.,  0.,  0.]],\n",
       "\n",
       "       [[ 0.,  0.,  0., ...,  0.,  0.,  0.],\n",
       "        [ 0.,  0.,  0., ...,  0.,  0.,  0.],\n",
       "        [ 0.,  0.,  0., ...,  0.,  0.,  0.],\n",
       "        ..., \n",
       "        [ 0.,  0.,  0., ...,  0.,  0.,  0.],\n",
       "        [ 0.,  0.,  0., ...,  0.,  0.,  0.],\n",
       "        [ 0.,  0.,  0., ...,  0.,  0.,  0.]],\n",
       "\n",
       "       [[ 0.,  0.,  0., ...,  0.,  0.,  0.],\n",
       "        [ 0.,  0.,  0., ...,  0.,  0.,  0.],\n",
       "        [ 0.,  0.,  0., ...,  0.,  0.,  0.],\n",
       "        ..., \n",
       "        [ 0.,  0.,  0., ...,  0.,  0.,  0.],\n",
       "        [ 0.,  0.,  0., ...,  0.,  0.,  0.],\n",
       "        [ 0.,  0.,  0., ...,  0.,  0.,  0.]],\n",
       "\n",
       "       ..., \n",
       "       [[ 0.,  0.,  0., ...,  0.,  0.,  0.],\n",
       "        [ 0.,  0.,  0., ...,  0.,  0.,  0.],\n",
       "        [ 0.,  0.,  0., ...,  0.,  0.,  0.],\n",
       "        ..., \n",
       "        [ 0.,  0.,  0., ...,  0.,  0.,  0.],\n",
       "        [ 0.,  0.,  0., ...,  0.,  0.,  0.],\n",
       "        [ 0.,  0.,  0., ...,  0.,  0.,  0.]],\n",
       "\n",
       "       [[ 0.,  0.,  0., ...,  0.,  0.,  0.],\n",
       "        [ 0.,  0.,  0., ...,  0.,  0.,  0.],\n",
       "        [ 0.,  0.,  0., ...,  0.,  0.,  0.],\n",
       "        ..., \n",
       "        [ 0.,  0.,  0., ...,  0.,  0.,  0.],\n",
       "        [ 0.,  0.,  0., ...,  0.,  0.,  0.],\n",
       "        [ 0.,  0.,  0., ...,  0.,  0.,  0.]],\n",
       "\n",
       "       [[ 0.,  0.,  0., ...,  0.,  0.,  0.],\n",
       "        [ 0.,  0.,  0., ...,  0.,  0.,  0.],\n",
       "        [ 0.,  0.,  0., ...,  0.,  0.,  0.],\n",
       "        ..., \n",
       "        [ 0.,  0.,  0., ...,  0.,  0.,  0.],\n",
       "        [ 0.,  0.,  0., ...,  0.,  0.,  0.],\n",
       "        [ 0.,  0.,  0., ...,  0.,  0.,  0.]]])"
      ]
     },
     "execution_count": 40,
     "metadata": {},
     "output_type": "execute_result"
    }
   ],
   "source": [
    "S3"
   ]
  },
  {
   "cell_type": "code",
   "execution_count": null,
   "metadata": {
    "collapsed": true
   },
   "outputs": [],
   "source": []
  }
 ],
 "metadata": {
  "kernelspec": {
   "display_name": "Python 3",
   "language": "python",
   "name": "python3"
  },
  "language_info": {
   "codemirror_mode": {
    "name": "ipython",
    "version": 3
   },
   "file_extension": ".py",
   "mimetype": "text/x-python",
   "name": "python",
   "nbconvert_exporter": "python",
   "pygments_lexer": "ipython3",
   "version": "3.5.2"
  }
 },
 "nbformat": 4,
 "nbformat_minor": 0
}
